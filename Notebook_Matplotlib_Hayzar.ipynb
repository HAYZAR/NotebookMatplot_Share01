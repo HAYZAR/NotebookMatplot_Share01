{
 "cells": [
  {
   "cell_type": "markdown",
   "metadata": {},
   "source": [
    "# ticks_and_spines example code: spines_demo_bounds.py"
   ]
  },
  {
   "cell_type": "code",
   "execution_count": null,
   "metadata": {},
   "outputs": [],
   "source": [
    "\"\"\"\n",
    "Demo of spines using custom bounds to limit the extent of the spine.\n",
    "\"\"\"\n",
    "import numpy as np\n",
    "import matplotlib.pyplot as plt\n",
    "\n",
    "\n",
    "x = np.linspace(0, 2*np.pi, 50)\n",
    "y = np.sin(x)\n",
    "y2 = y + 0.1 * np.random.normal(size=x.shape)\n",
    "\n",
    "fig, ax = plt.subplots()\n",
    "ax.plot(x, y, 'k--')\n",
    "ax.plot(x, y2, 'ro')\n",
    "\n",
    "# set ticks and tick labels\n",
    "ax.set_xlim((0, 2*np.pi))\n",
    "ax.set_xticks([0, np.pi, 2*np.pi])\n",
    "ax.set_xticklabels(['0', '$\\pi$', '2$\\pi$'])\n",
    "ax.set_ylim((-1.5, 1.5))\n",
    "ax.set_yticks([-1, 0, 1])\n",
    "\n",
    "# Only draw spine between the y-ticks\n",
    "ax.spines['left'].set_bounds(-1, 1)\n",
    "# Hide the right and top spines\n",
    "ax.spines['right'].set_visible(False)\n",
    "ax.spines['top'].set_visible(False)\n",
    "# Only show ticks on the left and bottom spines\n",
    "ax.yaxis.set_ticks_position('left')\n",
    "ax.xaxis.set_ticks_position('bottom')\n",
    "\n",
    "plt.show()"
   ]
  }
 ],
 "metadata": {
  "kernelspec": {
   "display_name": "Python 3",
   "language": "python",
   "name": "python3"
  },
  "language_info": {
   "codemirror_mode": {
    "name": "ipython",
    "version": 3
   },
   "file_extension": ".py",
   "mimetype": "text/x-python",
   "name": "python",
   "nbconvert_exporter": "python",
   "pygments_lexer": "ipython3",
   "version": "3.7.4"
  }
 },
 "nbformat": 4,
 "nbformat_minor": 2
}
